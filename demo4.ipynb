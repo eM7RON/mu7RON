{
 "cells": [
  {
   "cell_type": "markdown",
   "metadata": {},
   "source": [
    "___\n",
    "# mu7RON Demo 4\n",
    "---\n",
    "## Pulses\n",
    "\n",
    "mu7RON contains some useful tools for adding pulses at specific divisions within a midi sequence.\n",
    "\n",
    "This notebook gives a short demonstration of how one might go about that."
   ]
  },
  {
   "cell_type": "markdown",
   "metadata": {},
   "source": [
    "I wanted to experiment with varying input length of my machine learning models by 'beat' or bar and also wanted to see what would happen if I imbued the input with pulses on certain note divisions etc... So I wrote some functions to enable this:\n",
    "\n",
    "#### Preparation"
   ]
  },
  {
   "cell_type": "code",
   "execution_count": 1,
   "metadata": {},
   "outputs": [
    {
     "name": "stdout",
     "output_type": "stream",
     "text": [
      "pygame 1.9.6\n",
      "Hello from the pygame community. https://www.pygame.org/contribute.html\n"
     ]
    }
   ],
   "source": [
    "import copy\n",
    "\n",
    "import midi\n",
    "\n",
    "from MuGen import utils, edit, temporal"
   ]
  },
  {
   "cell_type": "markdown",
   "metadata": {},
   "source": [
    "Below we will load up a midi file, strip it of midi.events objects that are not required and then flatten/consolidate the midi.Tracks into a single midi.Track object:"
   ]
  },
  {
   "cell_type": "code",
   "execution_count": 2,
   "metadata": {},
   "outputs": [],
   "source": [
    "m = midi.read_midifile(r\"mu7ron/data/midi/test/test0.mid\")"
   ]
  },
  {
   "cell_type": "code",
   "execution_count": 3,
   "metadata": {},
   "outputs": [],
   "source": [
    "typs_2_keep = (midi.NoteOnEvent, midi.NoteOffEvent, midi.TimeSignatureEvent, midi.SetTempoEvent)\n",
    "\n",
    "m = edit.filter_ptrn_of_evnt_typs(m, typs_2_keep)\n",
    "m = edit.consolidate_trcks(m)"
   ]
  },
  {
   "cell_type": "markdown",
   "metadata": {},
   "source": [
    "We can see below that the new midi.Pattern contains a single midi.Track with just the midi.events that we specified above with 'types_to_keep'."
   ]
  },
  {
   "cell_type": "code",
   "execution_count": 4,
   "metadata": {},
   "outputs": [
    {
     "name": "stdout",
     "output_type": "stream",
     "text": [
      "Type: <class 'midi.containers.Pattern'>\n",
      "Type: <class 'midi.containers.Track'>\n",
      "No. of tracks: 1\n"
     ]
    },
    {
     "data": {
      "text/plain": [
       "midi.Track(\\\n",
       "  [midi.SetTempoEvent(tick=0, data=[6, 102, 252]),\n",
       "   midi.TimeSignatureEvent(tick=0, data=[4, 2, 6, 102]),\n",
       "   midi.NoteOnEvent(tick=0, channel=0, data=[84, 79]),\n",
       "   midi.NoteOnEvent(tick=0, channel=1, data=[81, 79]),\n",
       "   midi.NoteOnEvent(tick=0, channel=2, data=[77, 79]),\n",
       "   midi.NoteOnEvent(tick=0, channel=3, data=[69, 79]),\n",
       "   midi.NoteOnEvent(tick=0, channel=4, data=[60, 79]),\n",
       "   midi.NoteOnEvent(tick=0, channel=5, data=[53, 79]),\n",
       "   midi.NoteOffEvent(tick=390, channel=1, data=[81, 80]),\n",
       "   midi.NoteOnEvent(tick=90, channel=1, data=[81, 79])])"
      ]
     },
     "execution_count": 4,
     "metadata": {},
     "output_type": "execute_result"
    }
   ],
   "source": [
    "print('Type:', type(m))\n",
    "print('Type:', type(m[0]))\n",
    "print('No. of tracks:', len(m))\n",
    "m[0][:10]"
   ]
  },
  {
   "cell_type": "markdown",
   "metadata": {},
   "source": [
    "#### Add a bass drum\n",
    "\n",
    "We can add a pulse to the midi sequence with the `edit.add_pulse` function.\n",
    "\n",
    "This has as the signature: `edit.add_pulse(midi.Pattern, division, add_pulse_function, division_function)`\n",
    "\n",
    "Where:\n",
    "\n",
    "`add_pulse_function` is a user defined function that has the signature:  \n",
    "`add_pulse_function(alist, tick, on)` where `alist` is the midi sequence currently being edited, `tick` is the tick where the pulse will occur in the midi sequence, `on` is a bool that allows for a pulse/beat to be subdivided by 2 and indicates whether the pulse is 'on' or 'off' beat.\n",
    "\n",
    "`division_function` is a function that calculates tpp (ticks per pulse). There are two options:\n",
    "`time.ticks_per_bar_division` or `time.ticks_per_note_division` depending if you want your pulses to be on bar divisions or note divisions respectively.\n",
    "\n",
    "\n",
    "`division` is a number representing the division e.g. 4 for quarter notes when `division_function` is `time.ticks_per_note_division`.\n",
    "\n",
    "For example:"
   ]
  },
  {
   "cell_type": "code",
   "execution_count": 5,
   "metadata": {},
   "outputs": [],
   "source": [
    "c = copy.deepcopy(m) # so we ca re-run cell with a fresh version of m each time"
   ]
  },
  {
   "cell_type": "code",
   "execution_count": 6,
   "metadata": {},
   "outputs": [],
   "source": [
    "utils.play(c)"
   ]
  },
  {
   "cell_type": "markdown",
   "metadata": {},
   "source": [
    "Below is our `add_pulse_function`   \n",
    "It basically just appends a midi.events object to 'alist'. Notice that this is a NoteOnEvent on channel 9, which means it is percussion. And because .data[0] = 35 it is a bass drum!"
   ]
  },
  {
   "cell_type": "code",
   "execution_count": 7,
   "metadata": {},
   "outputs": [],
   "source": [
    "def add_bass_drum(alist, tick, on, **kwargs):\n",
    "    alist.append(midi.NoteOnEvent(tick=tick, channel=9, data=[35, 100]))\n",
    "    return alist"
   ]
  },
  {
   "cell_type": "markdown",
   "metadata": {},
   "source": [
    "We then apply the function on a pulse with `edit.add_pulse` and play:"
   ]
  },
  {
   "cell_type": "code",
   "execution_count": 8,
   "metadata": {},
   "outputs": [],
   "source": [
    "c = edit.add_pulse(c, 4., add_bass_drum, temporal.ticks_per_note_division)\n",
    "utils.play(c)"
   ]
  },
  {
   "cell_type": "markdown",
   "metadata": {},
   "source": [
    "You should hear a bass drum on each quarter note!"
   ]
  },
  {
   "cell_type": "markdown",
   "metadata": {},
   "source": [
    "#### Add a drum beat\n",
    "\n",
    "Below we will add a more complicated drum pattern:"
   ]
  },
  {
   "cell_type": "code",
   "execution_count": 9,
   "metadata": {},
   "outputs": [],
   "source": [
    "def add_bass_drum(alist, tick, on, **kwargs):\n",
    "    if on:\n",
    "        alist.append(midi.NoteOnEvent(tick=tick, channel=9, data=[35, 100]))\n",
    "    return alist\n",
    "\n",
    "def add_snare_drum(alist, tick, on, **kwargs):\n",
    "    if not on:\n",
    "        alist.append(midi.NoteOnEvent(tick=tick, channel=9, data=[40, 75]))\n",
    "    return alist\n",
    "\n",
    "def add_open_hihat_drum(alist, tick, on, **kwargs):\n",
    "    if not on:\n",
    "        alist.append(midi.NoteOnEvent(tick=tick, channel=9, data=[53, 75]))\n",
    "    return alist\n",
    "\n",
    "def add_closed_hihat_drum(alist, tick, on, **kwargs):\n",
    "    #if not on:\n",
    "    alist.append(midi.NoteOnEvent(tick=tick, channel=9, data=[59, 75]))\n",
    "    return alist\n",
    "\n",
    "c = copy.copy(m) # so we ca re-run cell with a fresh version of m each time\n",
    "c = edit.add_pulse(c, 4., add_bass_drum, temporal.ticks_per_note_division)\n",
    "c = edit.add_pulse(c, 8., add_open_hihat_drum, temporal.ticks_per_note_division)\n",
    "c = edit.add_pulse(c, 8., add_closed_hihat_drum, temporal.ticks_per_note_division)\n",
    "c = edit.add_pulse(c, 4, add_snare_drum, temporal.ticks_per_note_division)\n",
    "\n",
    "utils.play(c)"
   ]
  },
  {
   "cell_type": "markdown",
   "metadata": {},
   "source": [
    "#### Add a marker\n",
    "\n",
    "\n",
    "In the `notes` module, there are `Note` classes which can be used as simple place holders for a note division:"
   ]
  },
  {
   "cell_type": "code",
   "execution_count": 10,
   "metadata": {},
   "outputs": [],
   "source": [
    "from MuGen import notes"
   ]
  },
  {
   "cell_type": "code",
   "execution_count": 11,
   "metadata": {},
   "outputs": [
    {
     "data": {
      "text/plain": [
       "midi.Track(\\\n",
       "  [QuarterNote(tick=0, res=480, tsig=[4, 2]),\n",
       "   midi.SetTempoEvent(tick=0, data=[6, 102, 252]),\n",
       "   midi.TimeSignatureEvent(tick=0, data=[4, 2, 6, 102]),\n",
       "   midi.NoteOnEvent(tick=0, channel=0, data=[84, 79]),\n",
       "   midi.NoteOnEvent(tick=0, channel=1, data=[81, 79]),\n",
       "   midi.NoteOnEvent(tick=0, channel=2, data=[77, 79]),\n",
       "   midi.NoteOnEvent(tick=0, channel=3, data=[69, 79]),\n",
       "   midi.NoteOnEvent(tick=0, channel=4, data=[60, 79]),\n",
       "   midi.NoteOnEvent(tick=0, channel=5, data=[53, 79]),\n",
       "   midi.NoteOffEvent(tick=390, channel=1, data=[81, 80]),\n",
       "   QuarterNote(tick=90, res=480, tsig=[4, 2]),\n",
       "   midi.NoteOnEvent(tick=0, channel=1, data=[81, 79]),\n",
       "   midi.NoteOffEvent(tick=90, channel=0, data=[84, 80]),\n",
       "   midi.NoteOffEvent(tick=120, channel=1, data=[81, 80]),\n",
       "   midi.NoteOnEvent(tick=30, channel=0, data=[84, 79]),\n",
       "   midi.NoteOnEvent(tick=0, channel=1, data=[79, 79]),\n",
       "   midi.NoteOffEvent(tick=60, channel=2, data=[77, 80]),\n",
       "   midi.NoteOffEvent(tick=0, channel=3, data=[69, 80]),\n",
       "   midi.NoteOffEvent(tick=0, channel=4, data=[60, 80]),\n",
       "   midi.NoteOffEvent(tick=0, channel=5, data=[53, 80]),\n",
       "   midi.NoteOffEvent(tick=150, channel=0, data=[84, 80]),\n",
       "   midi.NoteOffEvent(tick=0, channel=1, data=[79, 80]),\n",
       "   QuarterNote(tick=30, res=480, tsig=[4, 2]),\n",
       "   midi.NoteOnEvent(tick=0, channel=0, data=[81, 79]),\n",
       "   midi.NoteOnEvent(tick=0, channel=1, data=[77, 79]),\n",
       "   midi.NoteOnEvent(tick=0, channel=2, data=[72, 79]),\n",
       "   midi.NoteOnEvent(tick=0, channel=3, data=[69, 79]),\n",
       "   midi.NoteOnEvent(tick=0, channel=4, data=[65, 79]),\n",
       "   midi.NoteOnEvent(tick=0, channel=5, data=[53, 79]),\n",
       "   midi.NoteOffEvent(tick=390, channel=0, data=[81, 80]),\n",
       "   midi.NoteOffEvent(tick=0, channel=3, data=[69, 80]),\n",
       "   midi.NoteOffEvent(tick=0, channel=4, data=[65, 80]),\n",
       "   midi.NoteOffEvent(tick=0, channel=5, data=[53, 80]),\n",
       "   QuarterNote(tick=90, res=480, tsig=[4, 2]),\n",
       "   midi.NoteOnEvent(tick=0, channel=0, data=[77, 63]),\n",
       "   midi.NoteOnEvent(tick=0, channel=3, data=[69, 79]),\n",
       "   midi.NoteOnEvent(tick=0, channel=4, data=[65, 63]),\n",
       "   midi.NoteOnEvent(tick=0, channel=5, data=[53, 79]),\n",
       "   midi.NoteOffEvent(tick=90, channel=1, data=[77, 80]),\n",
       "   midi.NoteOnEvent(tick=150, channel=1, data=[77, 63])])"
      ]
     },
     "execution_count": 11,
     "metadata": {},
     "output_type": "execute_result"
    }
   ],
   "source": [
    "c = copy.copy(m) # so we ca re-run cell with a fresh version of m each time\n",
    "\n",
    "def add_qnote(alist, tick, res, tsig, **kwargs):\n",
    "    alist.append(notes.QuarterNote(tick=tick, res=res, tsig=tsig))\n",
    "    return alist\n",
    "\n",
    "c = edit.add_pulse(c, 4., add_qnote, temporal.ticks_per_note_division)\n",
    "\n",
    "c[0][:40]"
   ]
  },
  {
   "cell_type": "markdown",
   "metadata": {},
   "source": [
    "These can be used for marking beats for building an AI model"
   ]
  }
 ],
 "metadata": {
  "kernelspec": {
   "display_name": "MusicGen",
   "language": "python",
   "name": "musicgen"
  },
  "language_info": {
   "codemirror_mode": {
    "name": "ipython",
    "version": 3
   },
   "file_extension": ".py",
   "mimetype": "text/x-python",
   "name": "python",
   "nbconvert_exporter": "python",
   "pygments_lexer": "ipython3",
   "version": "3.7.5"
  }
 },
 "nbformat": 4,
 "nbformat_minor": 4
}
