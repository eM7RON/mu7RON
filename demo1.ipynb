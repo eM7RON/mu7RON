{
 "cells": [
  {
   "cell_type": "markdown",
   "metadata": {},
   "source": [
    "___\n",
    "# mu7RON Demo 1\n",
    "---\n",
    "\n",
    "MuGen contains some useful tools for quickly analyzing and manipulating midi.\n",
    "\n",
    "We will go over some of the most useful tools in this notebook."
   ]
  },
  {
   "cell_type": "markdown",
   "metadata": {},
   "source": [
    "---\n",
    "### Midi Playback\n",
    "---\n",
    "MuGen is designed to be used alongside the [python3-midi](https://github.com/louisabraham/python3-midi/tree/louisabraham-patch-1) package. `python3-midi` allows for loading and saving operations as well as an API for interacting with the midi standard in Python."
   ]
  },
  {
   "cell_type": "code",
   "execution_count": 1,
   "metadata": {},
   "outputs": [
    {
     "name": "stdout",
     "output_type": "stream",
     "text": [
      "pygame 1.9.6\n",
      "Hello from the pygame community. https://www.pygame.org/contribute.html\n"
     ]
    }
   ],
   "source": [
    "import midi # python-midi\n",
    "\n",
    "from mu7ron import utils "
   ]
  },
  {
   "cell_type": "markdown",
   "metadata": {},
   "source": [
    "As can be seen above, MuGen uses pygame as a backend for midi playback functionality.\n",
    "\n",
    "We can load up a midi file using the python3-midi package:"
   ]
  },
  {
   "cell_type": "code",
   "execution_count": 2,
   "metadata": {},
   "outputs": [
    {
     "data": {
      "text/plain": [
       "midi.containers.Pattern"
      ]
     },
     "execution_count": 2,
     "metadata": {},
     "output_type": "execute_result"
    }
   ],
   "source": [
    "fname = r'mu7ron/data/midi/demo/test0.mid'\n",
    "\n",
    "ptrn = midi.read_midifile(fname)\n",
    "\n",
    "type(ptrn)"
   ]
  },
  {
   "cell_type": "markdown",
   "metadata": {},
   "source": [
    "Mugen provides a useful api for midi playback of midi Patterns"
   ]
  },
  {
   "cell_type": "code",
   "execution_count": 3,
   "metadata": {},
   "outputs": [],
   "source": [
    "utils.play(ptrn, 3.5)"
   ]
  },
  {
   "cell_type": "markdown",
   "metadata": {},
   "source": [
    "The second argument, '3.5' defined how long the playback should last.\n",
    "\n",
    "midi.Pattern objects often contain multiple midi.Track objects which may contain the musical information for different instruments in a piece of music.\n",
    "\n",
    "For example:"
   ]
  },
  {
   "cell_type": "code",
   "execution_count": 4,
   "metadata": {},
   "outputs": [
    {
     "name": "stdout",
     "output_type": "stream",
     "text": [
      "ptrn contains 7 midi.Track objects\n"
     ]
    },
    {
     "data": {
      "text/plain": [
       "(midi.Track(\\\n",
       "   [midi.SetTempoEvent(tick=0, data=[6, 102, 252]),\n",
       "    midi.TrackNameEvent(tick=0, text='', data=[]),\n",
       "    midi.TimeSignatureEvent(tick=0, data=[4, 2, 6, 102]),\n",
       "    midi.EndOfTrackEvent(tick=0, data=[])]),\n",
       " midi.Track(\\\n",
       "   [midi.TrackNameEvent(tick=0, text='C', data=[67]),\n",
       "    midi.ControlChangeEvent(tick=0, channel=0, data=[100, 0]),\n",
       "    midi.ControlChangeEvent(tick=0, channel=0, data=[101, 0]),\n",
       "    midi.ControlChangeEvent(tick=0, channel=0, data=[6, 12]),\n",
       "    midi.PitchWheelEvent(tick=0, channel=0, data=[0, 64])]))"
      ]
     },
     "execution_count": 4,
     "metadata": {},
     "output_type": "execute_result"
    }
   ],
   "source": [
    "print(f'ptrn contains {len(ptrn)} midi.Track objects')\n",
    "ptrn[0], ptrn[1][:5]"
   ]
  },
  {
   "cell_type": "markdown",
   "metadata": {},
   "source": [
    "midi.Track objects are containers for midi.events objects (as above). All together, these are used to tell the computer which pitches should be played at what times in order to construct the piece of music each time it is played."
   ]
  },
  {
   "cell_type": "markdown",
   "metadata": {},
   "source": [
    "The playback function may also be applied to a Track object:"
   ]
  },
  {
   "cell_type": "code",
   "execution_count": 5,
   "metadata": {},
   "outputs": [
    {
     "name": "stdout",
     "output_type": "stream",
     "text": [
      "<class 'midi.containers.Track'>\n"
     ]
    }
   ],
   "source": [
    "trck = ptrn[1]\n",
    "print(type(trck))\n",
    "utils.play(trck)"
   ]
  },
  {
   "cell_type": "markdown",
   "metadata": {},
   "source": [
    "It should be noted that not every track will contain midi.NoteOnEvents or midi.NoteOffEvents. Some may just contain meta information. So doing this may not always produce music."
   ]
  },
  {
   "cell_type": "markdown",
   "metadata": {},
   "source": [
    "You can also drop in the path to the file..."
   ]
  },
  {
   "cell_type": "code",
   "execution_count": 6,
   "metadata": {},
   "outputs": [],
   "source": [
    "utils.play(fname)"
   ]
  },
  {
   "cell_type": "markdown",
   "metadata": {},
   "source": [
    "---\n",
    "### MidiObj\n",
    "---"
   ]
  },
  {
   "cell_type": "markdown",
   "metadata": {},
   "source": [
    "Another way to play midi files/objects is with the MidiObj class:"
   ]
  },
  {
   "cell_type": "code",
   "execution_count": 7,
   "metadata": {},
   "outputs": [],
   "source": [
    "midi_obj = utils.MidiObj(fname)\n",
    "\n",
    "midi_obj.play(3.5)"
   ]
  },
  {
   "cell_type": "markdown",
   "metadata": {},
   "source": [
    "The idea of the MidiObj class was to make it easy to quickly visualize some of the attributes of a piece of midi music. It can also take Pattern or Track objects as input when creating an instance.\n",
    "\n",
    "i.e. time signature, tempo and instrument\n",
    "\n",
    "For example:"
   ]
  },
  {
   "cell_type": "code",
   "execution_count": 8,
   "metadata": {},
   "outputs": [
    {
     "data": {
      "text/plain": [
       "              \n",
       "        __________________________________________________________________________\n",
       "        \n",
       "        File          : test0.mid\n",
       "        Location      : W:\\OneDrive\\__Dev__\\__Dev__\\AI Music\\MusicEvo Project\\data\\midi\\temp\\working\n",
       "        Repr          : <MuGen.utils.MidiObj object at 0x1a228f77888>\n",
       "        Resolution    : 480\n",
       "        ---------------------------------------------------------------------------\n",
       "        \n",
       "        Voices        :\n",
       "            n. voice  : 1\n",
       "            n. u_inst : 1\n",
       "            data.     : i  | Group     | Instrument\n",
       "                        -------------------------\n",
       "                        75 | Pipe      | Recorder\n",
       "                        75 | Pipe      | Recorder\n",
       "                        75 | Pipe      | Recorder\n",
       "                        75 | Pipe      | Recorder\n",
       "                        75 | Pipe      | Recorder\n",
       "                        75 | Pipe      | Recorder\n",
       "            u. trck   : [False, True, True, True, True, True, True]\n",
       "\n",
       "        Time sig.     :\n",
       "            n.        : 1\n",
       "            data      : tick      | data\n",
       "                        -------------------------\n",
       "                        0         | [4, 4, 6, 102]\n",
       "\n",
       "        Tempo         :\n",
       "            n.        : 1\n",
       "            data      : tick      | bpm\n",
       "                        -------------------------\n",
       "                        0         | 143.0\n",
       "        __________________________________________________________________________\n",
       "        \n",
       "        "
      ]
     },
     "execution_count": 8,
     "metadata": {},
     "output_type": "execute_result"
    }
   ],
   "source": [
    "midi_obj"
   ]
  },
  {
   "cell_type": "markdown",
   "metadata": {},
   "source": [
    "A MidiObj's midi.Pattern may be accessed by:\n",
    "\n",
    "instance_name.ptrn"
   ]
  },
  {
   "cell_type": "code",
   "execution_count": 9,
   "metadata": {},
   "outputs": [
    {
     "data": {
      "text/plain": [
       "midi.containers.Pattern"
      ]
     },
     "execution_count": 9,
     "metadata": {},
     "output_type": "execute_result"
    }
   ],
   "source": [
    "type(midi_obj.ptrn)"
   ]
  },
  {
   "cell_type": "markdown",
   "metadata": {},
   "source": [
    "The edit module contains useful tools for manipulating midi:"
   ]
  },
  {
   "cell_type": "code",
   "execution_count": 10,
   "metadata": {},
   "outputs": [],
   "source": [
    "import MuGen.edit as edit"
   ]
  },
  {
   "cell_type": "markdown",
   "metadata": {},
   "source": [
    "We can strip out a lot of event types untill we have the 'bare bones':"
   ]
  },
  {
   "cell_type": "code",
   "execution_count": 11,
   "metadata": {},
   "outputs": [],
   "source": [
    "typs_2_keep = (\n",
    "    midi.NoteOnEvent,\n",
    "    midi.NoteOffEvent,\n",
    "    midi.SetTempoEvent,\n",
    ")\n",
    "\n",
    "midi_obj.ptrn = edit.filter_ptrn_of_evnt_typs(midi_obj.ptrn, typs_2_keep=typs_2_keep)"
   ]
  },
  {
   "cell_type": "markdown",
   "metadata": {},
   "source": [
    "It can be heard that the midi standard uses piano as a default instrument, after we have stripped all of the instrument information:"
   ]
  },
  {
   "cell_type": "code",
   "execution_count": 12,
   "metadata": {},
   "outputs": [],
   "source": [
    "midi_obj.play(3.5)"
   ]
  },
  {
   "cell_type": "markdown",
   "metadata": {},
   "source": [
    "Another very useful tool is the ability to consolidate tracks:"
   ]
  },
  {
   "cell_type": "code",
   "execution_count": 13,
   "metadata": {},
   "outputs": [
    {
     "name": "stdout",
     "output_type": "stream",
     "text": [
      "no. of tracks before: 7\n",
      "no. of tracks after: 1\n"
     ]
    }
   ],
   "source": [
    "print(f'no. of tracks before: {len(midi_obj.ptrn)}')\n",
    "midi_obj.ptrn = edit.consolidate_trcks(midi_obj.ptrn)\n",
    "print(f'no. of tracks after: {len(midi_obj.ptrn)}')"
   ]
  },
  {
   "cell_type": "markdown",
   "metadata": {},
   "source": [
    "As can be heard below, the music is preserved:"
   ]
  },
  {
   "cell_type": "code",
   "execution_count": 14,
   "metadata": {},
   "outputs": [],
   "source": [
    "midi_obj.play(3.5)"
   ]
  },
  {
   "cell_type": "markdown",
   "metadata": {},
   "source": [
    "Save progress with:"
   ]
  },
  {
   "cell_type": "code",
   "execution_count": 16,
   "metadata": {},
   "outputs": [],
   "source": [
    "where_to_save = r'MuGen/data/midi/demo/result0.mid'\n",
    "\n",
    "midi_obj.save(where_to_save)"
   ]
  },
  {
   "cell_type": "markdown",
   "metadata": {},
   "source": [
    "Although, it should be noted that stripping certain events and meta information as we have may make the resulting midi file unable to be played back in some players. "
   ]
  },
  {
   "cell_type": "markdown",
   "metadata": {},
   "source": [
    "---\n",
    "### Event Generator\n",
    "---"
   ]
  },
  {
   "cell_type": "markdown",
   "metadata": {},
   "source": [
    "The Mugen.utils module also contains a useful function that will return a generator that iterates over a midi.Track/midi.Pattern/MidiObj or any other common iterable, yielding a midi.events object each time:"
   ]
  },
  {
   "cell_type": "code",
   "execution_count": 17,
   "metadata": {},
   "outputs": [],
   "source": [
    "gen = utils.evnt_gen(midi_obj)"
   ]
  },
  {
   "cell_type": "code",
   "execution_count": 18,
   "metadata": {},
   "outputs": [
    {
     "name": "stdout",
     "output_type": "stream",
     "text": [
      "midi.SetTempoEvent(tick=0, data=[6, 102, 252])\n",
      "midi.NoteOnEvent(tick=0, channel=0, data=[84, 79])\n",
      "midi.NoteOnEvent(tick=0, channel=1, data=[81, 79])\n",
      "midi.NoteOnEvent(tick=0, channel=2, data=[77, 79])\n",
      "midi.NoteOnEvent(tick=0, channel=3, data=[69, 79])\n",
      "midi.NoteOnEvent(tick=0, channel=4, data=[60, 79])\n",
      "midi.NoteOnEvent(tick=0, channel=5, data=[53, 79])\n",
      "midi.NoteOffEvent(tick=390, channel=1, data=[81, 80])\n",
      "midi.NoteOnEvent(tick=90, channel=1, data=[81, 79])\n",
      "midi.NoteOffEvent(tick=90, channel=0, data=[84, 80])\n"
     ]
    }
   ],
   "source": [
    "for _ in range(10):\n",
    "    print(gen.__next__())"
   ]
  },
  {
   "cell_type": "code",
   "execution_count": 19,
   "metadata": {},
   "outputs": [
    {
     "data": {
      "text/plain": [
       "(generator, 161)"
      ]
     },
     "execution_count": 19,
     "metadata": {},
     "output_type": "execute_result"
    }
   ],
   "source": [
    "type(gen), len(list(gen))"
   ]
  }
 ],
 "metadata": {
  "kernelspec": {
   "display_name": "MusicGen",
   "language": "python",
   "name": "musicgen"
  },
  "language_info": {
   "codemirror_mode": {
    "name": "ipython",
    "version": 3
   },
   "file_extension": ".py",
   "mimetype": "text/x-python",
   "name": "python",
   "nbconvert_exporter": "python",
   "pygments_lexer": "ipython3",
   "version": "3.7.5"
  }
 },
 "nbformat": 4,
 "nbformat_minor": 4
}
