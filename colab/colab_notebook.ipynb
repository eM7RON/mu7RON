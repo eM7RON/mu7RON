{
  "nbformat": 4,
  "nbformat_minor": 0,
  "metadata": {
    "kernelspec": {
      "display_name": "MusicGen",
      "language": "python",
      "name": "musicgen"
    },
    "language_info": {
      "codemirror_mode": {
        "name": "ipython",
        "version": 3
      },
      "file_extension": ".py",
      "mimetype": "text/x-python",
      "name": "python",
      "nbconvert_exporter": "python",
      "pygments_lexer": "ipython3",
      "version": "3.7.5"
    },
    "colab": {
      "name": "Copy of colab_notebook.ipynb",
      "provenance": [],
      "collapsed_sections": []
    },
    "accelerator": "GPU"
  },
  "cells": [
    {
      "cell_type": "code",
      "metadata": {
        "id": "kEkXKph0HvPJ",
        "outputId": "27884057-52c1-412d-ae06-5d03e580f0d7",
        "colab": {
          "base_uri": "https://localhost:8080/",
          "height": 54
        }
      },
      "source": [
        "from google.colab import drive\n",
        "drive.mount('/content/gdrive')"
      ],
      "execution_count": 1,
      "outputs": [
        {
          "output_type": "stream",
          "text": [
            "Drive already mounted at /content/gdrive; to attempt to forcibly remount, call drive.mount(\"/content/gdrive\", force_remount=True).\n"
          ],
          "name": "stdout"
        }
      ]
    },
    {
      "cell_type": "code",
      "metadata": {
        "id": "YZI40qgAHvPU",
        "outputId": "ea19c9b6-31f4-4bca-f653-c60d4ecbd989",
        "colab": {
          "base_uri": "https://localhost:8080/",
          "height": 122
        }
      },
      "source": [
        "!pip install pygame"
      ],
      "execution_count": 2,
      "outputs": [
        {
          "output_type": "stream",
          "text": [
            "Collecting pygame\n",
            "\u001b[?25l  Downloading https://files.pythonhosted.org/packages/8e/24/ede6428359f913ed9cd1643dd5533aefeb5a2699cc95bea089de50ead586/pygame-1.9.6-cp36-cp36m-manylinux1_x86_64.whl (11.4MB)\n",
            "\u001b[K     |████████████████████████████████| 11.4MB 4.6MB/s \n",
            "\u001b[?25hInstalling collected packages: pygame\n",
            "Successfully installed pygame-1.9.6\n"
          ],
          "name": "stdout"
        }
      ]
    },
    {
      "cell_type": "code",
      "metadata": {
        "id": "93gD3UV3HvPc",
        "outputId": "a8672b50-eeb3-4ebd-9cc9-d54952792be6",
        "colab": {
          "base_uri": "https://localhost:8080/",
          "height": 204
        }
      },
      "source": [
        "!sudo apt-get install python python-setuptools python-dev python-augeas gcc swig dialog"
      ],
      "execution_count": 4,
      "outputs": [
        {
          "output_type": "stream",
          "text": [
            "Reading package lists... Done\n",
            "Building dependency tree       \n",
            "Reading state information... Done\n",
            "python is already the newest version (2.7.15~rc1-1).\n",
            "python-dev is already the newest version (2.7.15~rc1-1).\n",
            "python-setuptools is already the newest version (39.0.1-2).\n",
            "dialog is already the newest version (1.3-20171209-1).\n",
            "python-augeas is already the newest version (0.5.0-1).\n",
            "swig is already the newest version (3.0.12-1).\n",
            "gcc is already the newest version (4:7.4.0-1ubuntu2.3).\n",
            "0 upgraded, 0 newly installed, 0 to remove and 11 not upgraded.\n"
          ],
          "name": "stdout"
        }
      ]
    },
    {
      "cell_type": "code",
      "metadata": {
        "id": "9UkPmo77HvPl",
        "outputId": "c7c1898d-972d-47c7-a5a3-8a1b32964758",
        "colab": {
          "base_uri": "https://localhost:8080/",
          "height": 34
        }
      },
      "source": [
        "%cd \"gdrive/My Drive/python3-midi-louisabraham-patch-1/\""
      ],
      "execution_count": 8,
      "outputs": [
        {
          "output_type": "stream",
          "text": [
            "/content/gdrive/My Drive/python3-midi-louisabraham-patch-1\n"
          ],
          "name": "stdout"
        }
      ]
    },
    {
      "cell_type": "code",
      "metadata": {
        "id": "f5Oak4caHvPs",
        "outputId": "cb4a1f37-3e97-4a49-ae9a-b14354986e0c",
        "colab": {
          "base_uri": "https://localhost:8080/",
          "height": 836
        }
      },
      "source": [
        "!python setup.py install"
      ],
      "execution_count": 9,
      "outputs": [
        {
          "output_type": "stream",
          "text": [
            "/usr/local/lib/python3.6/dist-packages/setuptools/dist.py:452: UserWarning: Normalizing 'v0.2.3' to '0.2.3'\n",
            "  warnings.warn(tmpl.format(**locals()))\n",
            "running install\n",
            "running build_ext\n",
            "running build\n",
            "running build_py\n",
            "running build_scripts\n",
            "changing mode of build/scripts-3.6/mididump.py from 600 to 755\n",
            "changing mode of build/scripts-3.6/mididumphw.py from 600 to 755\n",
            "changing mode of build/scripts-3.6/midiplay.py from 600 to 755\n",
            "running install_lib\n",
            "creating /usr/local/lib/python3.6/dist-packages/midi\n",
            "copying build/lib.linux-x86_64-3.6/midi/constants.py -> /usr/local/lib/python3.6/dist-packages/midi\n",
            "copying build/lib.linux-x86_64-3.6/midi/util.py -> /usr/local/lib/python3.6/dist-packages/midi\n",
            "copying build/lib.linux-x86_64-3.6/midi/events.py -> /usr/local/lib/python3.6/dist-packages/midi\n",
            "copying build/lib.linux-x86_64-3.6/midi/containers.py -> /usr/local/lib/python3.6/dist-packages/midi\n",
            "copying build/lib.linux-x86_64-3.6/midi/__init__.py -> /usr/local/lib/python3.6/dist-packages/midi\n",
            "copying build/lib.linux-x86_64-3.6/midi/fileio.py -> /usr/local/lib/python3.6/dist-packages/midi\n",
            "creating /usr/local/lib/python3.6/dist-packages/midi/sequencer\n",
            "copying build/lib.linux-x86_64-3.6/midi/sequencer/__init__.py -> /usr/local/lib/python3.6/dist-packages/midi/sequencer\n",
            "copying build/lib.linux-x86_64-3.6/midi/sequencer/sequencer.py -> /usr/local/lib/python3.6/dist-packages/midi/sequencer\n",
            "copying build/lib.linux-x86_64-3.6/midi/sequencer/sequencer_alsa.py -> /usr/local/lib/python3.6/dist-packages/midi/sequencer\n",
            "copying build/lib.linux-x86_64-3.6/midi/sequencer/_sequencer_alsa.cpython-36m-x86_64-linux-gnu.so -> /usr/local/lib/python3.6/dist-packages/midi/sequencer\n",
            "byte-compiling /usr/local/lib/python3.6/dist-packages/midi/constants.py to constants.cpython-36.pyc\n",
            "byte-compiling /usr/local/lib/python3.6/dist-packages/midi/util.py to util.cpython-36.pyc\n",
            "byte-compiling /usr/local/lib/python3.6/dist-packages/midi/events.py to events.cpython-36.pyc\n",
            "byte-compiling /usr/local/lib/python3.6/dist-packages/midi/containers.py to containers.cpython-36.pyc\n",
            "byte-compiling /usr/local/lib/python3.6/dist-packages/midi/__init__.py to __init__.cpython-36.pyc\n",
            "byte-compiling /usr/local/lib/python3.6/dist-packages/midi/fileio.py to fileio.cpython-36.pyc\n",
            "byte-compiling /usr/local/lib/python3.6/dist-packages/midi/sequencer/__init__.py to __init__.cpython-36.pyc\n",
            "byte-compiling /usr/local/lib/python3.6/dist-packages/midi/sequencer/sequencer.py to sequencer.cpython-36.pyc\n",
            "byte-compiling /usr/local/lib/python3.6/dist-packages/midi/sequencer/sequencer_alsa.py to sequencer_alsa.cpython-36.pyc\n",
            "running install_egg_info\n",
            "running egg_info\n",
            "writing midi.egg-info/PKG-INFO\n",
            "writing dependency_links to midi.egg-info/dependency_links.txt\n",
            "writing top-level names to midi.egg-info/top_level.txt\n",
            "reading manifest file 'midi.egg-info/SOURCES.txt'\n",
            "writing manifest file 'midi.egg-info/SOURCES.txt'\n",
            "Copying midi.egg-info to /usr/local/lib/python3.6/dist-packages/midi-0.2.3-py3.6.egg-info\n",
            "running install_scripts\n",
            "copying build/scripts-3.6/mididump.py -> /usr/local/bin\n",
            "copying build/scripts-3.6/mididumphw.py -> /usr/local/bin\n",
            "copying build/scripts-3.6/midiplay.py -> /usr/local/bin\n",
            "changing mode of /usr/local/bin/mididump.py to 755\n",
            "changing mode of /usr/local/bin/mididumphw.py to 755\n",
            "changing mode of /usr/local/bin/midiplay.py to 755\n"
          ],
          "name": "stdout"
        }
      ]
    },
    {
      "cell_type": "code",
      "metadata": {
        "id": "6uZOmD6JHvP0",
        "outputId": "2903d685-d3f3-4d79-84a0-707a0958035d",
        "colab": {
          "base_uri": "https://localhost:8080/",
          "height": 34
        }
      },
      "source": [
        "%cd \"../../..\""
      ],
      "execution_count": 13,
      "outputs": [
        {
          "output_type": "stream",
          "text": [
            "/content\n"
          ],
          "name": "stdout"
        }
      ]
    },
    {
      "cell_type": "code",
      "metadata": {
        "id": "0jn6wc4nHvP7",
        "outputId": "0af49fb8-3b73-492c-d7e3-ac00d395ffd0",
        "colab": {
          "base_uri": "https://localhost:8080/",
          "height": 51
        }
      },
      "source": [
        "!dir"
      ],
      "execution_count": 12,
      "outputs": [
        {
          "output_type": "stream",
          "text": [
            "build\t  LICENSE   midi.egg-info     scripts\tsrc   tests\n",
            "examples  mary.mid  README.mediawiki  setup.py\ttest\n"
          ],
          "name": "stdout"
        }
      ]
    },
    {
      "cell_type": "code",
      "metadata": {
        "id": "MiyCFrrwIcC2"
      },
      "source": [
        "!mkdir MuGen"
      ],
      "execution_count": 3,
      "outputs": []
    },
    {
      "cell_type": "code",
      "metadata": {
        "id": "VFDFrMPMHvQF"
      },
      "source": [
        "!cp \"gdrive/My Drive/MuGen/__init__.py\" \"MuGen\"\n",
        "!cp \"gdrive/My Drive/MuGen/analyze.py\" \"MuGen\"\n",
        "!cp \"gdrive/My Drive/MuGen/aug.py\" \"MuGen\"\n",
        "!cp \"gdrive/My Drive/MuGen/coders.py\" \"MuGen\"\n",
        "!cp \"gdrive/My Drive/MuGen/edit.py\" \"MuGen\"\n",
        "!cp \"gdrive/My Drive/MuGen/generate.py\" \"MuGen\"\n",
        "!cp \"gdrive/My Drive/MuGen/learn.py\" \"MuGen\"\n",
        "!cp \"gdrive/My Drive/MuGen/maps.py\" \"MuGen\"\n",
        "!cp \"gdrive/My Drive/MuGen/notes.py\" \"MuGen\"\n",
        "!cp \"gdrive/My Drive/MuGen/temporal.py\" \"MuGen\"\n",
        "!cp \"gdrive/My Drive/MuGen/utils.py\" \"MuGen\"\n",
        "!cp \"gdrive/My Drive/MuGen/visualize.py\" \"MuGen\""
      ],
      "execution_count": 4,
      "outputs": []
    },
    {
      "cell_type": "code",
      "metadata": {
        "id": "19j-qbB9HvQJ"
      },
      "source": [
        "!cp -r \"gdrive/My Drive/data\" ."
      ],
      "execution_count": 5,
      "outputs": []
    },
    {
      "cell_type": "code",
      "metadata": {
        "id": "GrKYcIgUHvQX"
      },
      "source": [
        "!cp -r \"gdrive/My Drive/train_colab.py\" ."
      ],
      "execution_count": 2,
      "outputs": []
    },
    {
      "cell_type": "code",
      "metadata": {
        "id": "a8LdtSnrSeb_",
        "outputId": "3d9f98f2-f0a4-456f-83c6-1f0833e24ffa",
        "colab": {
          "base_uri": "https://localhost:8080/",
          "height": 1000
        }
      },
      "source": [
        "!python train_colab.py model_0_6581422686576843_25_Sep_2020_17-00-46.h5"
      ],
      "execution_count": null,
      "outputs": [
        {
          "output_type": "stream",
          "text": [
            "2020-09-26 12:01:43.974369: I tensorflow/stream_executor/platform/default/dso_loader.cc:48] Successfully opened dynamic library libcudart.so.10.1\n",
            "pygame 1.9.6\n",
            "Hello from the pygame community. https://www.pygame.org/contribute.html\n",
            "imports successful...\n",
            "2020-09-26 12:01:45.751056: I tensorflow/core/platform/profile_utils/cpu_utils.cc:104] CPU Frequency: 2200000000 Hz\n",
            "2020-09-26 12:01:45.751375: I tensorflow/compiler/xla/service/service.cc:168] XLA service 0x31b6840 initialized for platform Host (this does not guarantee that XLA will be used). Devices:\n",
            "2020-09-26 12:01:45.751416: I tensorflow/compiler/xla/service/service.cc:176]   StreamExecutor device (0): Host, Default Version\n",
            "2020-09-26 12:01:45.753630: I tensorflow/stream_executor/platform/default/dso_loader.cc:48] Successfully opened dynamic library libcuda.so.1\n",
            "2020-09-26 12:01:45.895200: I tensorflow/stream_executor/cuda/cuda_gpu_executor.cc:982] successful NUMA node read from SysFS had negative value (-1), but there must be at least one NUMA node, so returning NUMA node zero\n",
            "2020-09-26 12:01:45.895971: I tensorflow/compiler/xla/service/service.cc:168] XLA service 0x31b6bc0 initialized for platform CUDA (this does not guarantee that XLA will be used). Devices:\n",
            "2020-09-26 12:01:45.896005: I tensorflow/compiler/xla/service/service.cc:176]   StreamExecutor device (0): Tesla T4, Compute Capability 7.5\n",
            "2020-09-26 12:01:45.896186: I tensorflow/stream_executor/cuda/cuda_gpu_executor.cc:982] successful NUMA node read from SysFS had negative value (-1), but there must be at least one NUMA node, so returning NUMA node zero\n",
            "2020-09-26 12:01:45.896762: I tensorflow/core/common_runtime/gpu/gpu_device.cc:1716] Found device 0 with properties: \n",
            "pciBusID: 0000:00:04.0 name: Tesla T4 computeCapability: 7.5\n",
            "coreClock: 1.59GHz coreCount: 40 deviceMemorySize: 14.73GiB deviceMemoryBandwidth: 298.08GiB/s\n",
            "2020-09-26 12:01:45.896809: I tensorflow/stream_executor/platform/default/dso_loader.cc:48] Successfully opened dynamic library libcudart.so.10.1\n",
            "2020-09-26 12:01:45.898300: I tensorflow/stream_executor/platform/default/dso_loader.cc:48] Successfully opened dynamic library libcublas.so.10\n",
            "2020-09-26 12:01:45.899864: I tensorflow/stream_executor/platform/default/dso_loader.cc:48] Successfully opened dynamic library libcufft.so.10\n",
            "2020-09-26 12:01:45.900175: I tensorflow/stream_executor/platform/default/dso_loader.cc:48] Successfully opened dynamic library libcurand.so.10\n",
            "2020-09-26 12:01:45.901467: I tensorflow/stream_executor/platform/default/dso_loader.cc:48] Successfully opened dynamic library libcusolver.so.10\n",
            "2020-09-26 12:01:45.902085: I tensorflow/stream_executor/platform/default/dso_loader.cc:48] Successfully opened dynamic library libcusparse.so.10\n",
            "2020-09-26 12:01:45.904973: I tensorflow/stream_executor/platform/default/dso_loader.cc:48] Successfully opened dynamic library libcudnn.so.7\n",
            "2020-09-26 12:01:45.905088: I tensorflow/stream_executor/cuda/cuda_gpu_executor.cc:982] successful NUMA node read from SysFS had negative value (-1), but there must be at least one NUMA node, so returning NUMA node zero\n",
            "2020-09-26 12:01:45.905731: I tensorflow/stream_executor/cuda/cuda_gpu_executor.cc:982] successful NUMA node read from SysFS had negative value (-1), but there must be at least one NUMA node, so returning NUMA node zero\n",
            "2020-09-26 12:01:45.906210: I tensorflow/core/common_runtime/gpu/gpu_device.cc:1858] Adding visible gpu devices: 0\n",
            "2020-09-26 12:01:45.906255: I tensorflow/stream_executor/platform/default/dso_loader.cc:48] Successfully opened dynamic library libcudart.so.10.1\n",
            "2020-09-26 12:01:46.545106: I tensorflow/core/common_runtime/gpu/gpu_device.cc:1257] Device interconnect StreamExecutor with strength 1 edge matrix:\n",
            "2020-09-26 12:01:46.545168: I tensorflow/core/common_runtime/gpu/gpu_device.cc:1263]      0 \n",
            "2020-09-26 12:01:46.545181: I tensorflow/core/common_runtime/gpu/gpu_device.cc:1276] 0:   N \n",
            "2020-09-26 12:01:46.545396: I tensorflow/stream_executor/cuda/cuda_gpu_executor.cc:982] successful NUMA node read from SysFS had negative value (-1), but there must be at least one NUMA node, so returning NUMA node zero\n",
            "2020-09-26 12:01:46.546082: I tensorflow/stream_executor/cuda/cuda_gpu_executor.cc:982] successful NUMA node read from SysFS had negative value (-1), but there must be at least one NUMA node, so returning NUMA node zero\n",
            "2020-09-26 12:01:46.546680: I tensorflow/core/common_runtime/gpu/gpu_device.cc:1402] Created TensorFlow device (/job:localhost/replica:0/task:0/device:GPU:0 with 13962 MB memory) -> physical GPU (device: 0, name: Tesla T4, pci bus id: 0000:00:04.0, compute capability: 7.5)\n",
            "Parameter loading error... name={name}, value={value}.\n",
            "Parameter loading error... name={name}, value={value}.\n",
            "2020-09-26 12:01:46.596472: I tensorflow/stream_executor/cuda/cuda_gpu_executor.cc:982] successful NUMA node read from SysFS had negative value (-1), but there must be at least one NUMA node, so returning NUMA node zero\n",
            "2020-09-26 12:01:46.597108: I tensorflow/core/common_runtime/gpu/gpu_device.cc:1716] Found device 0 with properties: \n",
            "pciBusID: 0000:00:04.0 name: Tesla T4 computeCapability: 7.5\n",
            "coreClock: 1.59GHz coreCount: 40 deviceMemorySize: 14.73GiB deviceMemoryBandwidth: 298.08GiB/s\n",
            "2020-09-26 12:01:46.597171: I tensorflow/stream_executor/platform/default/dso_loader.cc:48] Successfully opened dynamic library libcudart.so.10.1\n",
            "2020-09-26 12:01:46.597229: I tensorflow/stream_executor/platform/default/dso_loader.cc:48] Successfully opened dynamic library libcublas.so.10\n",
            "2020-09-26 12:01:46.597256: I tensorflow/stream_executor/platform/default/dso_loader.cc:48] Successfully opened dynamic library libcufft.so.10\n",
            "2020-09-26 12:01:46.597279: I tensorflow/stream_executor/platform/default/dso_loader.cc:48] Successfully opened dynamic library libcurand.so.10\n",
            "2020-09-26 12:01:46.597298: I tensorflow/stream_executor/platform/default/dso_loader.cc:48] Successfully opened dynamic library libcusolver.so.10\n",
            "2020-09-26 12:01:46.597321: I tensorflow/stream_executor/platform/default/dso_loader.cc:48] Successfully opened dynamic library libcusparse.so.10\n",
            "2020-09-26 12:01:46.597344: I tensorflow/stream_executor/platform/default/dso_loader.cc:48] Successfully opened dynamic library libcudnn.so.7\n",
            "2020-09-26 12:01:46.597432: I tensorflow/stream_executor/cuda/cuda_gpu_executor.cc:982] successful NUMA node read from SysFS had negative value (-1), but there must be at least one NUMA node, so returning NUMA node zero\n",
            "2020-09-26 12:01:46.597984: I tensorflow/stream_executor/cuda/cuda_gpu_executor.cc:982] successful NUMA node read from SysFS had negative value (-1), but there must be at least one NUMA node, so returning NUMA node zero\n",
            "2020-09-26 12:01:46.598512: I tensorflow/core/common_runtime/gpu/gpu_device.cc:1858] Adding visible gpu devices: 0\n",
            "2020-09-26 12:01:46.599180: I tensorflow/stream_executor/cuda/cuda_gpu_executor.cc:982] successful NUMA node read from SysFS had negative value (-1), but there must be at least one NUMA node, so returning NUMA node zero\n",
            "2020-09-26 12:01:46.599889: I tensorflow/core/common_runtime/gpu/gpu_device.cc:1716] Found device 0 with properties: \n",
            "pciBusID: 0000:00:04.0 name: Tesla T4 computeCapability: 7.5\n",
            "coreClock: 1.59GHz coreCount: 40 deviceMemorySize: 14.73GiB deviceMemoryBandwidth: 298.08GiB/s\n",
            "2020-09-26 12:01:46.599932: I tensorflow/stream_executor/platform/default/dso_loader.cc:48] Successfully opened dynamic library libcudart.so.10.1\n",
            "2020-09-26 12:01:46.599977: I tensorflow/stream_executor/platform/default/dso_loader.cc:48] Successfully opened dynamic library libcublas.so.10\n",
            "2020-09-26 12:01:46.600003: I tensorflow/stream_executor/platform/default/dso_loader.cc:48] Successfully opened dynamic library libcufft.so.10\n",
            "2020-09-26 12:01:46.600026: I tensorflow/stream_executor/platform/default/dso_loader.cc:48] Successfully opened dynamic library libcurand.so.10\n",
            "2020-09-26 12:01:46.600047: I tensorflow/stream_executor/platform/default/dso_loader.cc:48] Successfully opened dynamic library libcusolver.so.10\n",
            "2020-09-26 12:01:46.600070: I tensorflow/stream_executor/platform/default/dso_loader.cc:48] Successfully opened dynamic library libcusparse.so.10\n",
            "2020-09-26 12:01:46.600094: I tensorflow/stream_executor/platform/default/dso_loader.cc:48] Successfully opened dynamic library libcudnn.so.7\n",
            "2020-09-26 12:01:46.600165: I tensorflow/stream_executor/cuda/cuda_gpu_executor.cc:982] successful NUMA node read from SysFS had negative value (-1), but there must be at least one NUMA node, so returning NUMA node zero\n",
            "2020-09-26 12:01:46.600747: I tensorflow/stream_executor/cuda/cuda_gpu_executor.cc:982] successful NUMA node read from SysFS had negative value (-1), but there must be at least one NUMA node, so returning NUMA node zero\n",
            "2020-09-26 12:01:46.601301: I tensorflow/core/common_runtime/gpu/gpu_device.cc:1858] Adding visible gpu devices: 0\n",
            "2020-09-26 12:01:46.601343: I tensorflow/core/common_runtime/gpu/gpu_device.cc:1257] Device interconnect StreamExecutor with strength 1 edge matrix:\n",
            "2020-09-26 12:01:46.601360: I tensorflow/core/common_runtime/gpu/gpu_device.cc:1263]      0 \n",
            "2020-09-26 12:01:46.601370: I tensorflow/core/common_runtime/gpu/gpu_device.cc:1276] 0:   N \n",
            "2020-09-26 12:01:46.601477: I tensorflow/stream_executor/cuda/cuda_gpu_executor.cc:982] successful NUMA node read from SysFS had negative value (-1), but there must be at least one NUMA node, so returning NUMA node zero\n",
            "2020-09-26 12:01:46.602031: I tensorflow/stream_executor/cuda/cuda_gpu_executor.cc:982] successful NUMA node read from SysFS had negative value (-1), but there must be at least one NUMA node, so returning NUMA node zero\n",
            "2020-09-26 12:01:46.602626: I tensorflow/core/common_runtime/gpu/gpu_device.cc:1402] Created TensorFlow device (/job:localhost/replica:0/task:0/device:GPU:0 with 13962 MB memory) -> physical GPU (device: 0, name: Tesla T4, pci bus id: 0000:00:04.0, compute capability: 7.5)\n",
            "n_vocab:  288\n",
            "337 samples were removed because they are too short. There are 1103 remaining. \n",
            "If this is not enough, try reducing n_step, n_teach and/or buffer and create a new instance of MappedDataAugGen\n",
            "spinning up tensorflow...\n",
            "Model: \"sequential\"\n",
            "_________________________________________________________________\n",
            "Layer (type)                 Output Shape              Param #   \n",
            "=================================================================\n",
            "lstm (LSTM)                  (None, 720)               2905920   \n",
            "_________________________________________________________________\n",
            "dense (Dense)                (None, 288)               207648    \n",
            "_________________________________________________________________\n",
            "activation (Activation)      (None, 288)               0         \n",
            "=================================================================\n",
            "Total params: 3,113,568\n",
            "Trainable params: 3,113,568\n",
            "Non-trainable params: 0\n",
            "_________________________________________________________________\n",
            "Epoch 1/1000\n",
            "2020-09-26 12:01:49.156527: I tensorflow/stream_executor/platform/default/dso_loader.cc:48] Successfully opened dynamic library libcublas.so.10\n",
            "2020-09-26 12:01:49.561923: I tensorflow/stream_executor/platform/default/dso_loader.cc:48] Successfully opened dynamic library libcudnn.so.7\n",
            "72350/72351 [============================>.] - ETA: 0s - loss: 0.4986 - categorical_accuracy: 0.8509epoch: 0 loss improved from inf to 0.4985829293727875, saving model to gdrive/My Drive/backups/model_0_4985829293727875_26_Sep_2020_12-41-09.h5 loss: 0.4986 acc: 0.8509 val_acc: 0.4705 val_loss: 2.714\n",
            "72351/72351 [==============================] - 2358s 33ms/step - loss: 0.4986 - categorical_accuracy: 0.8509 - val_loss: 2.7140 - val_categorical_accuracy: 0.4705\n",
            "Epoch 2/1000\n",
            "72351/72351 [==============================] - ETA: 0s - loss: 0.4056 - categorical_accuracy: 0.8823epoch: 1 loss improved from 0.4985829293727875 to 0.40559181571006775, saving model to gdrive/My Drive/backups/model_0_40559181571006775_26_Sep_2020_13-20-30.h5 loss: 0.4056 acc: 0.8823 val_acc: 0.4764 val_loss: 2.7475\n",
            "72351/72351 [==============================] - 2361s 33ms/step - loss: 0.4056 - categorical_accuracy: 0.8823 - val_loss: 2.7475 - val_categorical_accuracy: 0.4764\n",
            "Epoch 3/1000\n",
            "32285/72351 [============>.................] - ETA: 21:45 - loss: 0.3618 - categorical_accuracy: 0.8978"
          ],
          "name": "stdout"
        }
      ]
    }
  ]
}